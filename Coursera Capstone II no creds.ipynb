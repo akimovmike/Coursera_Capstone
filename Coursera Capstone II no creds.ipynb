{
 "cells": [
  {
   "cell_type": "markdown",
   "metadata": {},
   "source": [
    "# Library imports"
   ]
  },
  {
   "cell_type": "code",
   "execution_count": 1,
   "metadata": {},
   "outputs": [
    {
     "name": "stdout",
     "output_type": "stream",
     "text": [
      "Collecting geocoder\n",
      "\u001b[?25l  Downloading https://files.pythonhosted.org/packages/4f/6b/13166c909ad2f2d76b929a4227c952630ebaf0d729f6317eb09cbceccbab/geocoder-1.38.1-py2.py3-none-any.whl (98kB)\n",
      "\u001b[K     |████████████████████████████████| 102kB 7.7MB/s ta 0:00:011\n",
      "\u001b[?25hRequirement already satisfied: six in /opt/conda/envs/Python36/lib/python3.6/site-packages (from geocoder) (1.12.0)\n",
      "Collecting ratelim (from geocoder)\n",
      "  Downloading https://files.pythonhosted.org/packages/f2/98/7e6d147fd16a10a5f821db6e25f192265d6ecca3d82957a4fdd592cad49c/ratelim-0.1.6-py2.py3-none-any.whl\n",
      "Requirement already satisfied: requests in /opt/conda/envs/Python36/lib/python3.6/site-packages (from geocoder) (2.21.0)\n",
      "Requirement already satisfied: click in /opt/conda/envs/Python36/lib/python3.6/site-packages (from geocoder) (7.0)\n",
      "Requirement already satisfied: future in /opt/conda/envs/Python36/lib/python3.6/site-packages (from geocoder) (0.17.1)\n",
      "Requirement already satisfied: decorator in /opt/conda/envs/Python36/lib/python3.6/site-packages (from ratelim->geocoder) (4.3.2)\n",
      "Requirement already satisfied: chardet<3.1.0,>=3.0.2 in /opt/conda/envs/Python36/lib/python3.6/site-packages (from requests->geocoder) (3.0.4)\n",
      "Requirement already satisfied: urllib3<1.25,>=1.21.1 in /opt/conda/envs/Python36/lib/python3.6/site-packages (from requests->geocoder) (1.24.1)\n",
      "Requirement already satisfied: idna<2.9,>=2.5 in /opt/conda/envs/Python36/lib/python3.6/site-packages (from requests->geocoder) (2.8)\n",
      "Requirement already satisfied: certifi>=2017.4.17 in /opt/conda/envs/Python36/lib/python3.6/site-packages (from requests->geocoder) (2020.4.5.1)\n",
      "Installing collected packages: ratelim, geocoder\n",
      "Successfully installed geocoder-1.38.1 ratelim-0.1.6\n"
     ]
    }
   ],
   "source": [
    "! pip install geocoder"
   ]
  },
  {
   "cell_type": "code",
   "execution_count": 2,
   "metadata": {},
   "outputs": [],
   "source": [
    "import geocoder"
   ]
  },
  {
   "cell_type": "code",
   "execution_count": 3,
   "metadata": {},
   "outputs": [],
   "source": [
    "import pandas as pd"
   ]
  },
  {
   "cell_type": "code",
   "execution_count": 4,
   "metadata": {},
   "outputs": [],
   "source": [
    "import requests # library to handle requests\n",
    "from pandas.io.json import json_normalize # tranform JSON file into a pandas dataframe"
   ]
  },
  {
   "cell_type": "code",
   "execution_count": 119,
   "metadata": {},
   "outputs": [],
   "source": [
    "import statsmodels.api as sm"
   ]
  },
  {
   "cell_type": "code",
   "execution_count": 154,
   "metadata": {},
   "outputs": [],
   "source": [
    "import seaborn as sns\n",
    "import numpy as np"
   ]
  },
  {
   "cell_type": "markdown",
   "metadata": {},
   "source": [
    "# Washington crimes data"
   ]
  },
  {
   "cell_type": "markdown",
   "metadata": {},
   "source": [
    "First of all, we obtain the Washington crimes dataset"
   ]
  },
  {
   "cell_type": "code",
   "execution_count": 5,
   "metadata": {},
   "outputs": [],
   "source": [
    "url = 'https://opendata.arcgis.com/datasets/38ba41dd74354563bce28a359b59324e_0.csv'"
   ]
  },
  {
   "cell_type": "code",
   "execution_count": 6,
   "metadata": {},
   "outputs": [
    {
     "data": {
      "text/html": [
       "<div>\n",
       "<style scoped>\n",
       "    .dataframe tbody tr th:only-of-type {\n",
       "        vertical-align: middle;\n",
       "    }\n",
       "\n",
       "    .dataframe tbody tr th {\n",
       "        vertical-align: top;\n",
       "    }\n",
       "\n",
       "    .dataframe thead th {\n",
       "        text-align: right;\n",
       "    }\n",
       "</style>\n",
       "<table border=\"1\" class=\"dataframe\">\n",
       "  <thead>\n",
       "    <tr style=\"text-align: right;\">\n",
       "      <th></th>\n",
       "      <th>X</th>\n",
       "      <th>Y</th>\n",
       "      <th>CCN</th>\n",
       "      <th>REPORT_DAT</th>\n",
       "      <th>SHIFT</th>\n",
       "      <th>METHOD</th>\n",
       "      <th>OFFENSE</th>\n",
       "      <th>BLOCK</th>\n",
       "      <th>XBLOCK</th>\n",
       "      <th>YBLOCK</th>\n",
       "      <th>...</th>\n",
       "      <th>BLOCK_GROUP</th>\n",
       "      <th>CENSUS_TRACT</th>\n",
       "      <th>VOTING_PRECINCT</th>\n",
       "      <th>LATITUDE</th>\n",
       "      <th>LONGITUDE</th>\n",
       "      <th>BID</th>\n",
       "      <th>START_DATE</th>\n",
       "      <th>END_DATE</th>\n",
       "      <th>OBJECTID</th>\n",
       "      <th>OCTO_RECORD_ID</th>\n",
       "    </tr>\n",
       "  </thead>\n",
       "  <tbody>\n",
       "    <tr>\n",
       "      <th>0</th>\n",
       "      <td>-76.984594</td>\n",
       "      <td>38.879114</td>\n",
       "      <td>18206448</td>\n",
       "      <td>2018-12-05T15:29:29.000Z</td>\n",
       "      <td>EVENING</td>\n",
       "      <td>OTHERS</td>\n",
       "      <td>THEFT/OTHER</td>\n",
       "      <td>1400 - 1499 BLOCK OF IVES PLACE SE</td>\n",
       "      <td>401337.00</td>\n",
       "      <td>134586.00</td>\n",
       "      <td>...</td>\n",
       "      <td>007100 2</td>\n",
       "      <td>7100.0</td>\n",
       "      <td>Precinct 91</td>\n",
       "      <td>38.879106</td>\n",
       "      <td>-76.984591</td>\n",
       "      <td>NaN</td>\n",
       "      <td>2018-12-05T14:30:50.000Z</td>\n",
       "      <td>2018-12-05T15:00:32.000Z</td>\n",
       "      <td>430803211</td>\n",
       "      <td>18206448-01</td>\n",
       "    </tr>\n",
       "    <tr>\n",
       "      <th>1</th>\n",
       "      <td>-76.992649</td>\n",
       "      <td>38.883673</td>\n",
       "      <td>18206449</td>\n",
       "      <td>2018-12-05T15:20:17.000Z</td>\n",
       "      <td>EVENING</td>\n",
       "      <td>OTHERS</td>\n",
       "      <td>THEFT F/AUTO</td>\n",
       "      <td>400 - 449 BLOCK OF 10TH STREET SE</td>\n",
       "      <td>400638.00</td>\n",
       "      <td>135092.00</td>\n",
       "      <td>...</td>\n",
       "      <td>006900 1</td>\n",
       "      <td>6900.0</td>\n",
       "      <td>Precinct 90</td>\n",
       "      <td>38.883665</td>\n",
       "      <td>-76.992647</td>\n",
       "      <td>CAPITOL HILL</td>\n",
       "      <td>2018-12-05T02:00:03.000Z</td>\n",
       "      <td>2018-12-05T13:30:52.000Z</td>\n",
       "      <td>430803212</td>\n",
       "      <td>18206449-01</td>\n",
       "    </tr>\n",
       "    <tr>\n",
       "      <th>2</th>\n",
       "      <td>-77.032594</td>\n",
       "      <td>38.928179</td>\n",
       "      <td>18206454</td>\n",
       "      <td>2018-12-05T16:00:00.000Z</td>\n",
       "      <td>EVENING</td>\n",
       "      <td>OTHERS</td>\n",
       "      <td>THEFT/OTHER</td>\n",
       "      <td>3000 - 3099 BLOCK OF 14TH STREET NW</td>\n",
       "      <td>397174.00</td>\n",
       "      <td>140033.00</td>\n",
       "      <td>...</td>\n",
       "      <td>002802 1</td>\n",
       "      <td>2802.0</td>\n",
       "      <td>Precinct 36</td>\n",
       "      <td>38.928171</td>\n",
       "      <td>-77.032592</td>\n",
       "      <td>NaN</td>\n",
       "      <td>2018-12-05T14:53:42.000Z</td>\n",
       "      <td>2018-12-05T16:00:11.000Z</td>\n",
       "      <td>430803213</td>\n",
       "      <td>18206454-01</td>\n",
       "    </tr>\n",
       "    <tr>\n",
       "      <th>3</th>\n",
       "      <td>-77.025607</td>\n",
       "      <td>38.934585</td>\n",
       "      <td>18206456</td>\n",
       "      <td>2018-12-05T15:33:05.000Z</td>\n",
       "      <td>EVENING</td>\n",
       "      <td>OTHERS</td>\n",
       "      <td>THEFT/OTHER</td>\n",
       "      <td>3600 - 3639 BLOCK OF NEW HAMPSHIRE AVENUE NW</td>\n",
       "      <td>397780.00</td>\n",
       "      <td>140744.00</td>\n",
       "      <td>...</td>\n",
       "      <td>002900 1</td>\n",
       "      <td>2900.0</td>\n",
       "      <td>Precinct 42</td>\n",
       "      <td>38.934577</td>\n",
       "      <td>-77.025605</td>\n",
       "      <td>NaN</td>\n",
       "      <td>2018-12-05T15:01:14.000Z</td>\n",
       "      <td>2018-12-05T15:28:44.000Z</td>\n",
       "      <td>430803214</td>\n",
       "      <td>18206456-01</td>\n",
       "    </tr>\n",
       "    <tr>\n",
       "      <th>4</th>\n",
       "      <td>-77.058083</td>\n",
       "      <td>38.934832</td>\n",
       "      <td>18206460</td>\n",
       "      <td>2018-12-05T15:44:41.000Z</td>\n",
       "      <td>EVENING</td>\n",
       "      <td>OTHERS</td>\n",
       "      <td>THEFT/OTHER</td>\n",
       "      <td>3319 - 3499 BLOCK OF CONNECTICUT AVENUE NW</td>\n",
       "      <td>394964.33</td>\n",
       "      <td>140772.69</td>\n",
       "      <td>...</td>\n",
       "      <td>001302 2</td>\n",
       "      <td>1302.0</td>\n",
       "      <td>Precinct 27</td>\n",
       "      <td>38.934824</td>\n",
       "      <td>-77.058081</td>\n",
       "      <td>NaN</td>\n",
       "      <td>2018-12-05T15:05:40.000Z</td>\n",
       "      <td>2018-12-05T15:13:03.000Z</td>\n",
       "      <td>430803215</td>\n",
       "      <td>18206460-01</td>\n",
       "    </tr>\n",
       "  </tbody>\n",
       "</table>\n",
       "<p>5 rows × 25 columns</p>\n",
       "</div>"
      ],
      "text/plain": [
       "           X          Y       CCN                REPORT_DAT    SHIFT  METHOD  \\\n",
       "0 -76.984594  38.879114  18206448  2018-12-05T15:29:29.000Z  EVENING  OTHERS   \n",
       "1 -76.992649  38.883673  18206449  2018-12-05T15:20:17.000Z  EVENING  OTHERS   \n",
       "2 -77.032594  38.928179  18206454  2018-12-05T16:00:00.000Z  EVENING  OTHERS   \n",
       "3 -77.025607  38.934585  18206456  2018-12-05T15:33:05.000Z  EVENING  OTHERS   \n",
       "4 -77.058083  38.934832  18206460  2018-12-05T15:44:41.000Z  EVENING  OTHERS   \n",
       "\n",
       "        OFFENSE                                         BLOCK     XBLOCK  \\\n",
       "0   THEFT/OTHER            1400 - 1499 BLOCK OF IVES PLACE SE  401337.00   \n",
       "1  THEFT F/AUTO             400 - 449 BLOCK OF 10TH STREET SE  400638.00   \n",
       "2   THEFT/OTHER           3000 - 3099 BLOCK OF 14TH STREET NW  397174.00   \n",
       "3   THEFT/OTHER  3600 - 3639 BLOCK OF NEW HAMPSHIRE AVENUE NW  397780.00   \n",
       "4   THEFT/OTHER    3319 - 3499 BLOCK OF CONNECTICUT AVENUE NW  394964.33   \n",
       "\n",
       "      YBLOCK  ...  BLOCK_GROUP CENSUS_TRACT  VOTING_PRECINCT   LATITUDE  \\\n",
       "0  134586.00  ...     007100 2       7100.0      Precinct 91  38.879106   \n",
       "1  135092.00  ...     006900 1       6900.0      Precinct 90  38.883665   \n",
       "2  140033.00  ...     002802 1       2802.0      Precinct 36  38.928171   \n",
       "3  140744.00  ...     002900 1       2900.0      Precinct 42  38.934577   \n",
       "4  140772.69  ...     001302 2       1302.0      Precinct 27  38.934824   \n",
       "\n",
       "   LONGITUDE           BID                START_DATE  \\\n",
       "0 -76.984591           NaN  2018-12-05T14:30:50.000Z   \n",
       "1 -76.992647  CAPITOL HILL  2018-12-05T02:00:03.000Z   \n",
       "2 -77.032592           NaN  2018-12-05T14:53:42.000Z   \n",
       "3 -77.025605           NaN  2018-12-05T15:01:14.000Z   \n",
       "4 -77.058081           NaN  2018-12-05T15:05:40.000Z   \n",
       "\n",
       "                   END_DATE   OBJECTID  OCTO_RECORD_ID  \n",
       "0  2018-12-05T15:00:32.000Z  430803211     18206448-01  \n",
       "1  2018-12-05T13:30:52.000Z  430803212     18206449-01  \n",
       "2  2018-12-05T16:00:11.000Z  430803213     18206454-01  \n",
       "3  2018-12-05T15:28:44.000Z  430803214     18206456-01  \n",
       "4  2018-12-05T15:13:03.000Z  430803215     18206460-01  \n",
       "\n",
       "[5 rows x 25 columns]"
      ]
     },
     "execution_count": 6,
     "metadata": {},
     "output_type": "execute_result"
    }
   ],
   "source": [
    "crimes_df = pd.read_csv(url)\n",
    "crimes_df.head()"
   ]
  },
  {
   "cell_type": "markdown",
   "metadata": {},
   "source": [
    "As far as we plan to calculate regression, we need to check the count of available samples:"
   ]
  },
  {
   "cell_type": "code",
   "execution_count": 7,
   "metadata": {},
   "outputs": [
    {
     "data": {
      "text/plain": [
       "1641"
      ]
     },
     "execution_count": 7,
     "metadata": {},
     "output_type": "execute_result"
    }
   ],
   "source": [
    "crimes_df.shape[0]"
   ]
  },
  {
   "cell_type": "markdown",
   "metadata": {},
   "source": [
    "Let's check the column names in this dataset"
   ]
  },
  {
   "cell_type": "code",
   "execution_count": 8,
   "metadata": {},
   "outputs": [
    {
     "data": {
      "text/plain": [
       "Index(['X', 'Y', 'CCN', 'REPORT_DAT', 'SHIFT', 'METHOD', 'OFFENSE', 'BLOCK',\n",
       "       'XBLOCK', 'YBLOCK', 'WARD', 'ANC', 'DISTRICT', 'PSA',\n",
       "       'NEIGHBORHOOD_CLUSTER', 'BLOCK_GROUP', 'CENSUS_TRACT',\n",
       "       'VOTING_PRECINCT', 'LATITUDE', 'LONGITUDE', 'BID', 'START_DATE',\n",
       "       'END_DATE', 'OBJECTID', 'OCTO_RECORD_ID'],\n",
       "      dtype='object')"
      ]
     },
     "execution_count": 8,
     "metadata": {},
     "output_type": "execute_result"
    }
   ],
   "source": [
    "crimes_df.columns"
   ]
  },
  {
   "cell_type": "markdown",
   "metadata": {},
   "source": [
    "From here, we need only NEIGHBORHOOD_CLUSTER and OFFENSE columns"
   ]
  },
  {
   "cell_type": "code",
   "execution_count": 9,
   "metadata": {},
   "outputs": [],
   "source": [
    "crimes_df = crimes_df.loc[:, ('NEIGHBORHOOD_CLUSTER', 'OFFENSE')]"
   ]
  },
  {
   "cell_type": "markdown",
   "metadata": {},
   "source": [
    "We will rename the columns for convenience and check the result"
   ]
  },
  {
   "cell_type": "code",
   "execution_count": 10,
   "metadata": {},
   "outputs": [],
   "source": [
    "crimes_df.columns = ['cluster','crime']"
   ]
  },
  {
   "cell_type": "code",
   "execution_count": 11,
   "metadata": {},
   "outputs": [
    {
     "data": {
      "text/html": [
       "<div>\n",
       "<style scoped>\n",
       "    .dataframe tbody tr th:only-of-type {\n",
       "        vertical-align: middle;\n",
       "    }\n",
       "\n",
       "    .dataframe tbody tr th {\n",
       "        vertical-align: top;\n",
       "    }\n",
       "\n",
       "    .dataframe thead th {\n",
       "        text-align: right;\n",
       "    }\n",
       "</style>\n",
       "<table border=\"1\" class=\"dataframe\">\n",
       "  <thead>\n",
       "    <tr style=\"text-align: right;\">\n",
       "      <th></th>\n",
       "      <th>cluster</th>\n",
       "      <th>crime</th>\n",
       "    </tr>\n",
       "  </thead>\n",
       "  <tbody>\n",
       "    <tr>\n",
       "      <th>0</th>\n",
       "      <td>Cluster 26</td>\n",
       "      <td>THEFT/OTHER</td>\n",
       "    </tr>\n",
       "    <tr>\n",
       "      <th>1</th>\n",
       "      <td>Cluster 26</td>\n",
       "      <td>THEFT F/AUTO</td>\n",
       "    </tr>\n",
       "    <tr>\n",
       "      <th>2</th>\n",
       "      <td>Cluster 2</td>\n",
       "      <td>THEFT/OTHER</td>\n",
       "    </tr>\n",
       "    <tr>\n",
       "      <th>3</th>\n",
       "      <td>Cluster 2</td>\n",
       "      <td>THEFT/OTHER</td>\n",
       "    </tr>\n",
       "    <tr>\n",
       "      <th>4</th>\n",
       "      <td>Cluster 15</td>\n",
       "      <td>THEFT/OTHER</td>\n",
       "    </tr>\n",
       "  </tbody>\n",
       "</table>\n",
       "</div>"
      ],
      "text/plain": [
       "      cluster         crime\n",
       "0  Cluster 26   THEFT/OTHER\n",
       "1  Cluster 26  THEFT F/AUTO\n",
       "2   Cluster 2   THEFT/OTHER\n",
       "3   Cluster 2   THEFT/OTHER\n",
       "4  Cluster 15   THEFT/OTHER"
      ]
     },
     "execution_count": 11,
     "metadata": {},
     "output_type": "execute_result"
    }
   ],
   "source": [
    "crimes_df.head()"
   ]
  },
  {
   "cell_type": "markdown",
   "metadata": {},
   "source": [
    "Let's see what kinds of crimes were recorded"
   ]
  },
  {
   "cell_type": "code",
   "execution_count": 12,
   "metadata": {},
   "outputs": [
    {
     "data": {
      "text/plain": [
       "array(['THEFT/OTHER', 'THEFT F/AUTO', 'BURGLARY', 'MOTOR VEHICLE THEFT',\n",
       "       'ASSAULT W/DANGEROUS WEAPON', 'ROBBERY', 'HOMICIDE', 'SEX ABUSE',\n",
       "       'ARSON'], dtype=object)"
      ]
     },
     "execution_count": 12,
     "metadata": {},
     "output_type": "execute_result"
    }
   ],
   "source": [
    "pd.unique(crimes_df['crime'])"
   ]
  },
  {
   "cell_type": "markdown",
   "metadata": {},
   "source": [
    "The crime names are not very standard, so we'll need to manually match them manually to the severity scores and add to the dataset"
   ]
  },
  {
   "cell_type": "code",
   "execution_count": 13,
   "metadata": {},
   "outputs": [],
   "source": [
    "# the scores taken from here: \n",
    "# https://www.ons.gov.uk/peoplepopulationandcommunity/crimeandjustice/datasets/crimeseverityscoreexperimentalstatistics\n",
    "weights = {\n",
    "    'SEX ABUSE':3254, # rape \n",
    "    'HOMICIDE':7973, \n",
    "    'THEFT F/AUTO':33, \n",
    "    'THEFT/OTHER':37,\n",
    "    'ASSAULT W/DANGEROUS WEAPON':2035, \n",
    "    'BURGLARY':465, \n",
    "    'ROBBERY':800,\n",
    "    'MOTOR VEHICLE THEFT':128, \n",
    "    'ARSON':442\n",
    "}"
   ]
  },
  {
   "cell_type": "code",
   "execution_count": 14,
   "metadata": {},
   "outputs": [],
   "source": [
    "crimes_df['score'] = crimes_df['crime'].map(weights)"
   ]
  },
  {
   "cell_type": "markdown",
   "metadata": {},
   "source": [
    "In addition, in the crimes dataset, we have only neighborhood clusters, and in the Foursquare venues database, it is more convenient to have Neighborhoods with their shape.\n",
    "\n",
    "Therefore, we first need to map neighborhood clusters to neighborhood names."
   ]
  },
  {
   "cell_type": "code",
   "execution_count": 8,
   "metadata": {},
   "outputs": [
    {
     "data": {
      "text/html": [
       "<div>\n",
       "<style scoped>\n",
       "    .dataframe tbody tr th:only-of-type {\n",
       "        vertical-align: middle;\n",
       "    }\n",
       "\n",
       "    .dataframe tbody tr th {\n",
       "        vertical-align: top;\n",
       "    }\n",
       "\n",
       "    .dataframe thead th {\n",
       "        text-align: right;\n",
       "    }\n",
       "</style>\n",
       "<table border=\"1\" class=\"dataframe\">\n",
       "  <thead>\n",
       "    <tr style=\"text-align: right;\">\n",
       "      <th></th>\n",
       "      <th>OBJECTID</th>\n",
       "      <th>WEB_URL</th>\n",
       "      <th>NAME</th>\n",
       "      <th>NBH_NAMES</th>\n",
       "      <th>Shape_Length</th>\n",
       "      <th>Shape_Area</th>\n",
       "      <th>TYPE</th>\n",
       "    </tr>\n",
       "  </thead>\n",
       "  <tbody>\n",
       "    <tr>\n",
       "      <th>0</th>\n",
       "      <td>1</td>\n",
       "      <td>http://planning.dc.gov/</td>\n",
       "      <td>Cluster 39</td>\n",
       "      <td>Congress Heights, Bellevue, Washington Highlands</td>\n",
       "      <td>10711.668010</td>\n",
       "      <td>4.886463e+06</td>\n",
       "      <td>Original</td>\n",
       "    </tr>\n",
       "    <tr>\n",
       "      <th>1</th>\n",
       "      <td>2</td>\n",
       "      <td>http://planning.dc.gov/</td>\n",
       "      <td>Cluster 38</td>\n",
       "      <td>Douglas, Shipley Terrace</td>\n",
       "      <td>8229.486324</td>\n",
       "      <td>2.367958e+06</td>\n",
       "      <td>Original</td>\n",
       "    </tr>\n",
       "    <tr>\n",
       "      <th>2</th>\n",
       "      <td>3</td>\n",
       "      <td>http://planning.dc.gov/</td>\n",
       "      <td>Cluster 36</td>\n",
       "      <td>Woodland/Fort Stanton, Garfield Heights, Knox ...</td>\n",
       "      <td>4746.344457</td>\n",
       "      <td>1.119573e+06</td>\n",
       "      <td>Original</td>\n",
       "    </tr>\n",
       "    <tr>\n",
       "      <th>3</th>\n",
       "      <td>4</td>\n",
       "      <td>http://planning.dc.gov/</td>\n",
       "      <td>Cluster 27</td>\n",
       "      <td>Near Southeast, Navy Yard</td>\n",
       "      <td>7286.968902</td>\n",
       "      <td>1.619167e+06</td>\n",
       "      <td>Original</td>\n",
       "    </tr>\n",
       "    <tr>\n",
       "      <th>4</th>\n",
       "      <td>5</td>\n",
       "      <td>http://planning.dc.gov/</td>\n",
       "      <td>Cluster 32</td>\n",
       "      <td>River Terrace, Benning, Greenway, Dupont Park</td>\n",
       "      <td>11251.012821</td>\n",
       "      <td>4.286254e+06</td>\n",
       "      <td>Original</td>\n",
       "    </tr>\n",
       "  </tbody>\n",
       "</table>\n",
       "</div>"
      ],
      "text/plain": [
       "   OBJECTID                  WEB_URL        NAME  \\\n",
       "0         1  http://planning.dc.gov/  Cluster 39   \n",
       "1         2  http://planning.dc.gov/  Cluster 38   \n",
       "2         3  http://planning.dc.gov/  Cluster 36   \n",
       "3         4  http://planning.dc.gov/  Cluster 27   \n",
       "4         5  http://planning.dc.gov/  Cluster 32   \n",
       "\n",
       "                                           NBH_NAMES  Shape_Length  \\\n",
       "0   Congress Heights, Bellevue, Washington Highlands  10711.668010   \n",
       "1                           Douglas, Shipley Terrace   8229.486324   \n",
       "2  Woodland/Fort Stanton, Garfield Heights, Knox ...   4746.344457   \n",
       "3                          Near Southeast, Navy Yard   7286.968902   \n",
       "4      River Terrace, Benning, Greenway, Dupont Park  11251.012821   \n",
       "\n",
       "     Shape_Area      TYPE  \n",
       "0  4.886463e+06  Original  \n",
       "1  2.367958e+06  Original  \n",
       "2  1.119573e+06  Original  \n",
       "3  1.619167e+06  Original  \n",
       "4  4.286254e+06  Original  "
      ]
     },
     "execution_count": 8,
     "metadata": {},
     "output_type": "execute_result"
    }
   ],
   "source": [
    "# to match cluster id and neighb names\n",
    "cluster_names_url = 'https://opendata.arcgis.com/datasets/f6c703ebe2534fc3800609a07bad8f5b_17.csv'\n",
    "cluster_names_df = pd.read_csv(cluster_names_url)\n",
    "cluster_names_df.head()"
   ]
  },
  {
   "cell_type": "markdown",
   "metadata": {},
   "source": [
    "The total cluster count is as follows"
   ]
  },
  {
   "cell_type": "code",
   "execution_count": 9,
   "metadata": {},
   "outputs": [
    {
     "data": {
      "text/plain": [
       "46"
      ]
     },
     "execution_count": 9,
     "metadata": {},
     "output_type": "execute_result"
    }
   ],
   "source": [
    "cluster_names_df.shape[0]"
   ]
  },
  {
   "cell_type": "markdown",
   "metadata": {},
   "source": [
    "The available Neighborhood cluster dataset contains multiple neighborhoods per single cell, so we'll make a separate function to split them"
   ]
  },
  {
   "cell_type": "code",
   "execution_count": 16,
   "metadata": {},
   "outputs": [],
   "source": [
    "def split_neigh(df):\n",
    "    neigs = []\n",
    "    clusters = []\n",
    "    for row in df.iterrows():\n",
    "        for nbh in row[1]['NBH_NAMES'].split(', '):\n",
    "            neigs.append(nbh)\n",
    "            clusters.append(row[1]['NAME'])\n",
    "    out_df = pd.DataFrame({'neighborhood':neigs, 'cluster':clusters})\n",
    "    return out_df"
   ]
  },
  {
   "cell_type": "code",
   "execution_count": 17,
   "metadata": {},
   "outputs": [
    {
     "data": {
      "text/html": [
       "<div>\n",
       "<style scoped>\n",
       "    .dataframe tbody tr th:only-of-type {\n",
       "        vertical-align: middle;\n",
       "    }\n",
       "\n",
       "    .dataframe tbody tr th {\n",
       "        vertical-align: top;\n",
       "    }\n",
       "\n",
       "    .dataframe thead th {\n",
       "        text-align: right;\n",
       "    }\n",
       "</style>\n",
       "<table border=\"1\" class=\"dataframe\">\n",
       "  <thead>\n",
       "    <tr style=\"text-align: right;\">\n",
       "      <th></th>\n",
       "      <th>neighborhood</th>\n",
       "      <th>cluster</th>\n",
       "    </tr>\n",
       "  </thead>\n",
       "  <tbody>\n",
       "    <tr>\n",
       "      <th>0</th>\n",
       "      <td>Congress Heights</td>\n",
       "      <td>Cluster 39</td>\n",
       "    </tr>\n",
       "    <tr>\n",
       "      <th>1</th>\n",
       "      <td>Bellevue</td>\n",
       "      <td>Cluster 39</td>\n",
       "    </tr>\n",
       "    <tr>\n",
       "      <th>2</th>\n",
       "      <td>Washington Highlands</td>\n",
       "      <td>Cluster 39</td>\n",
       "    </tr>\n",
       "    <tr>\n",
       "      <th>3</th>\n",
       "      <td>Douglas</td>\n",
       "      <td>Cluster 38</td>\n",
       "    </tr>\n",
       "    <tr>\n",
       "      <th>4</th>\n",
       "      <td>Shipley Terrace</td>\n",
       "      <td>Cluster 38</td>\n",
       "    </tr>\n",
       "  </tbody>\n",
       "</table>\n",
       "</div>"
      ],
      "text/plain": [
       "           neighborhood     cluster\n",
       "0      Congress Heights  Cluster 39\n",
       "1              Bellevue  Cluster 39\n",
       "2  Washington Highlands  Cluster 39\n",
       "3               Douglas  Cluster 38\n",
       "4       Shipley Terrace  Cluster 38"
      ]
     },
     "execution_count": 17,
     "metadata": {},
     "output_type": "execute_result"
    }
   ],
   "source": [
    "cluster_names_df = split_neigh(cluster_names_df)\n",
    "cluster_names_df.head()"
   ]
  },
  {
   "cell_type": "markdown",
   "metadata": {},
   "source": [
    "Now, we need to obtain the coordinates of each neighborhood. We will use the geocoder library for this. As far as the Google Maps API requires a subscription, we will use the free ArcGIS API"
   ]
  },
  {
   "cell_type": "code",
   "execution_count": 18,
   "metadata": {},
   "outputs": [],
   "source": [
    "def get_coordinates(neighb):\n",
    "\n",
    "    g = geocoder.arcgis('{}, Washington DC, US'.format(neighb))\n",
    "    result = g.json\n",
    "\n",
    "    latitude = result['lat']\n",
    "    longitude = result['lng']\n",
    "    return latitude, longitude"
   ]
  },
  {
   "cell_type": "code",
   "execution_count": 19,
   "metadata": {},
   "outputs": [],
   "source": [
    "cluster_names_df['latitude'] = 0\n",
    "cluster_names_df['longitude'] = 0"
   ]
  },
  {
   "cell_type": "code",
   "execution_count": 32,
   "metadata": {},
   "outputs": [
    {
     "data": {
      "text/html": [
       "<div>\n",
       "<style scoped>\n",
       "    .dataframe tbody tr th:only-of-type {\n",
       "        vertical-align: middle;\n",
       "    }\n",
       "\n",
       "    .dataframe tbody tr th {\n",
       "        vertical-align: top;\n",
       "    }\n",
       "\n",
       "    .dataframe thead th {\n",
       "        text-align: right;\n",
       "    }\n",
       "</style>\n",
       "<table border=\"1\" class=\"dataframe\">\n",
       "  <thead>\n",
       "    <tr style=\"text-align: right;\">\n",
       "      <th></th>\n",
       "      <th>neighborhood</th>\n",
       "      <th>cluster</th>\n",
       "      <th>latitude</th>\n",
       "      <th>longitude</th>\n",
       "    </tr>\n",
       "  </thead>\n",
       "  <tbody>\n",
       "    <tr>\n",
       "      <th>0</th>\n",
       "      <td>Congress Heights</td>\n",
       "      <td>Cluster 39</td>\n",
       "      <td>38.842900</td>\n",
       "      <td>-77.000570</td>\n",
       "    </tr>\n",
       "    <tr>\n",
       "      <th>1</th>\n",
       "      <td>Bellevue</td>\n",
       "      <td>Cluster 39</td>\n",
       "      <td>38.826540</td>\n",
       "      <td>-77.008700</td>\n",
       "    </tr>\n",
       "    <tr>\n",
       "      <th>2</th>\n",
       "      <td>Washington Highlands</td>\n",
       "      <td>Cluster 39</td>\n",
       "      <td>38.831980</td>\n",
       "      <td>-76.997000</td>\n",
       "    </tr>\n",
       "    <tr>\n",
       "      <th>3</th>\n",
       "      <td>Douglas</td>\n",
       "      <td>Cluster 38</td>\n",
       "      <td>38.923443</td>\n",
       "      <td>-77.000071</td>\n",
       "    </tr>\n",
       "    <tr>\n",
       "      <th>4</th>\n",
       "      <td>Shipley Terrace</td>\n",
       "      <td>Cluster 38</td>\n",
       "      <td>38.847340</td>\n",
       "      <td>-76.972930</td>\n",
       "    </tr>\n",
       "  </tbody>\n",
       "</table>\n",
       "</div>"
      ],
      "text/plain": [
       "           neighborhood     cluster   latitude  longitude\n",
       "0      Congress Heights  Cluster 39  38.842900 -77.000570\n",
       "1              Bellevue  Cluster 39  38.826540 -77.008700\n",
       "2  Washington Highlands  Cluster 39  38.831980 -76.997000\n",
       "3               Douglas  Cluster 38  38.923443 -77.000071\n",
       "4       Shipley Terrace  Cluster 38  38.847340 -76.972930"
      ]
     },
     "execution_count": 32,
     "metadata": {},
     "output_type": "execute_result"
    }
   ],
   "source": [
    "coords = cluster_names_df['neighborhood'].apply(get_coordinates)\n",
    "cluster_names_df.loc[:,'latitude'] = [x[0] for x in coords]\n",
    "cluster_names_df.loc[:,'longitude'] = [x[1] for x in coords]\n",
    "cluster_names_df.head()"
   ]
  },
  {
   "cell_type": "markdown",
   "metadata": {},
   "source": [
    "# Foursquare data"
   ]
  },
  {
   "cell_type": "markdown",
   "metadata": {},
   "source": [
    "To this end, we have a list of Washington DC Neighborhoods, and now we want to obtain a count of culture, sports, and spiritual objects first for each neighborhood, and then for the neighborhood clusters. For this task, we will use the Foursquare api."
   ]
  },
  {
   "cell_type": "code",
   "execution_count": 34,
   "metadata": {},
   "outputs": [],
   "source": [
    "VERSION = '20180605' # Foursquare API version"
   ]
  },
  {
   "cell_type": "code",
   "execution_count": 35,
   "metadata": {},
   "outputs": [],
   "source": [
    "LIMIT = 100"
   ]
  },
  {
   "cell_type": "markdown",
   "metadata": {},
   "source": [
    "The function below will obtain a list of all venues near approximately belonging to the neighborhood. In addition, it will store the venue category id to filter the required venue types later."
   ]
  },
  {
   "cell_type": "code",
   "execution_count": 63,
   "metadata": {},
   "outputs": [],
   "source": [
    "def getNearbyVenues(names, latitudes, longitudes, radius=500):\n",
    "    \n",
    "    venues_list=[]\n",
    "    for name, lat, lng in zip(names, latitudes, longitudes):\n",
    "            \n",
    "        # create the API request URL\n",
    "        url = 'https://api.foursquare.com/v2/venues/explore?&client_id={}&client_secret={}&v={}&ll={},{}&radius={}&limit={}'.format(\n",
    "            CLIENT_ID, \n",
    "            CLIENT_SECRET, \n",
    "            VERSION, \n",
    "            lat, \n",
    "            lng, \n",
    "            radius, \n",
    "            LIMIT\n",
    "        )\n",
    "            \n",
    "        # make the GET request\n",
    "#         json = requests.get(url).json()\n",
    "#         print(json)\n",
    "#         break\n",
    "        results = requests.get(url).json()[\"response\"]['groups'][0]['items']\n",
    "#         results = requests.get(url).json()[\"response\"]['venues']\n",
    "        \n",
    "        # return only relevant information for each nearby venue\n",
    "        venues_list.append([(\n",
    "            name, \n",
    "            lat, \n",
    "            lng, \n",
    "            v['venue']['name'], \n",
    "            v['venue']['location']['lat'], \n",
    "            v['venue']['location']['lng'],  \n",
    "            v['venue']['categories'][0]['name'],\n",
    "            v['venue']['categories'][0]['id']) for v in results])\n",
    "\n",
    "    nearby_venues = pd.DataFrame([item for venue_list in venues_list for item in venue_list])\n",
    "    nearby_venues.columns = ['neighborhood', \n",
    "                  'neighborhood_latitude', \n",
    "                  'neighborhood_longitude', \n",
    "                  'venue', \n",
    "                  'venue_latitude', \n",
    "                  'venue_longitude', \n",
    "                  'venue_category',\n",
    "                  'venue_category_id']\n",
    "    \n",
    "    return(nearby_venues)"
   ]
  },
  {
   "cell_type": "code",
   "execution_count": 64,
   "metadata": {},
   "outputs": [
    {
     "data": {
      "text/html": [
       "<div>\n",
       "<style scoped>\n",
       "    .dataframe tbody tr th:only-of-type {\n",
       "        vertical-align: middle;\n",
       "    }\n",
       "\n",
       "    .dataframe tbody tr th {\n",
       "        vertical-align: top;\n",
       "    }\n",
       "\n",
       "    .dataframe thead th {\n",
       "        text-align: right;\n",
       "    }\n",
       "</style>\n",
       "<table border=\"1\" class=\"dataframe\">\n",
       "  <thead>\n",
       "    <tr style=\"text-align: right;\">\n",
       "      <th></th>\n",
       "      <th>neighborhood</th>\n",
       "      <th>neighborhood_latitude</th>\n",
       "      <th>neighborhood_longitude</th>\n",
       "      <th>venue</th>\n",
       "      <th>venue_latitude</th>\n",
       "      <th>venue_longitude</th>\n",
       "      <th>venue_category</th>\n",
       "      <th>venue_category_id</th>\n",
       "    </tr>\n",
       "  </thead>\n",
       "  <tbody>\n",
       "    <tr>\n",
       "      <th>0</th>\n",
       "      <td>Congress Heights</td>\n",
       "      <td>38.8429</td>\n",
       "      <td>-77.00057</td>\n",
       "      <td>MLK Deli</td>\n",
       "      <td>38.843560</td>\n",
       "      <td>-76.999808</td>\n",
       "      <td>Deli / Bodega</td>\n",
       "      <td>4bf58dd8d48988d146941735</td>\n",
       "    </tr>\n",
       "    <tr>\n",
       "      <th>1</th>\n",
       "      <td>Congress Heights</td>\n",
       "      <td>38.8429</td>\n",
       "      <td>-77.00057</td>\n",
       "      <td>Malcolm X and MLK</td>\n",
       "      <td>38.843144</td>\n",
       "      <td>-76.998744</td>\n",
       "      <td>Road</td>\n",
       "      <td>4bf58dd8d48988d1f9931735</td>\n",
       "    </tr>\n",
       "    <tr>\n",
       "      <th>2</th>\n",
       "      <td>Congress Heights</td>\n",
       "      <td>38.8429</td>\n",
       "      <td>-77.00057</td>\n",
       "      <td>Alabama and MLK Ave SE</td>\n",
       "      <td>38.843196</td>\n",
       "      <td>-76.998774</td>\n",
       "      <td>Intersection</td>\n",
       "      <td>52f2ab2ebcbc57f1066b8b4c</td>\n",
       "    </tr>\n",
       "    <tr>\n",
       "      <th>3</th>\n",
       "      <td>Congress Heights</td>\n",
       "      <td>38.8429</td>\n",
       "      <td>-77.00057</td>\n",
       "      <td>Popeyes Louisiana Kitchen</td>\n",
       "      <td>38.844926</td>\n",
       "      <td>-76.997012</td>\n",
       "      <td>Fried Chicken Joint</td>\n",
       "      <td>4d4ae6fc7a7b7dea34424761</td>\n",
       "    </tr>\n",
       "    <tr>\n",
       "      <th>4</th>\n",
       "      <td>Congress Heights</td>\n",
       "      <td>38.8429</td>\n",
       "      <td>-77.00057</td>\n",
       "      <td>Capital City Creamery</td>\n",
       "      <td>38.844296</td>\n",
       "      <td>-76.998362</td>\n",
       "      <td>Ice Cream Shop</td>\n",
       "      <td>4bf58dd8d48988d1c9941735</td>\n",
       "    </tr>\n",
       "  </tbody>\n",
       "</table>\n",
       "</div>"
      ],
      "text/plain": [
       "       neighborhood  neighborhood_latitude  neighborhood_longitude  \\\n",
       "0  Congress Heights                38.8429               -77.00057   \n",
       "1  Congress Heights                38.8429               -77.00057   \n",
       "2  Congress Heights                38.8429               -77.00057   \n",
       "3  Congress Heights                38.8429               -77.00057   \n",
       "4  Congress Heights                38.8429               -77.00057   \n",
       "\n",
       "                       venue  venue_latitude  venue_longitude  \\\n",
       "0                   MLK Deli       38.843560       -76.999808   \n",
       "1          Malcolm X and MLK       38.843144       -76.998744   \n",
       "2     Alabama and MLK Ave SE       38.843196       -76.998774   \n",
       "3  Popeyes Louisiana Kitchen       38.844926       -76.997012   \n",
       "4      Capital City Creamery       38.844296       -76.998362   \n",
       "\n",
       "        venue_category         venue_category_id  \n",
       "0        Deli / Bodega  4bf58dd8d48988d146941735  \n",
       "1                 Road  4bf58dd8d48988d1f9931735  \n",
       "2         Intersection  52f2ab2ebcbc57f1066b8b4c  \n",
       "3  Fried Chicken Joint  4d4ae6fc7a7b7dea34424761  \n",
       "4       Ice Cream Shop  4bf58dd8d48988d1c9941735  "
      ]
     },
     "execution_count": 64,
     "metadata": {},
     "output_type": "execute_result"
    }
   ],
   "source": [
    "washington_venues = getNearbyVenues(names=cluster_names_df['neighborhood'],\n",
    "                                   latitudes=cluster_names_df['latitude'],\n",
    "                                   longitudes=cluster_names_df['longitude']\n",
    "                                  )\n",
    "washington_venues.head()"
   ]
  },
  {
   "cell_type": "markdown",
   "metadata": {},
   "source": [
    "Now we will obtain the list of all available categories from the Fourquare. This is required, as the categories could be nested, and we also need the subcategories for the filter to work correctly"
   ]
  },
  {
   "cell_type": "code",
   "execution_count": 71,
   "metadata": {},
   "outputs": [],
   "source": [
    "# create the API request URL\n",
    "url = 'https://api.foursquare.com/v2/venues/categories?&client_id={}&client_secret={}&v={}'.format(\n",
    "    CLIENT_ID, \n",
    "    CLIENT_SECRET,\n",
    "    VERSION\n",
    ")\n",
    "\n",
    "# make the GET request\n",
    "results = requests.get(url).json()[\"response\"]['categories']"
   ]
  },
  {
   "cell_type": "markdown",
   "metadata": {},
   "source": [
    "Now we define a function to recursively scan the obtained categories and save only those belonging to the supplied category id list or being the appropriate subcategories"
   ]
  },
  {
   "cell_type": "code",
   "execution_count": 78,
   "metadata": {},
   "outputs": [],
   "source": [
    "def store_categories(results, target_ids, is_subtopic=False):    \n",
    "    output=[]\n",
    "    for category in results:        \n",
    "        if category['id'] in target_ids:            \n",
    "            output.append(category['id'])\n",
    "            if category['categories'] != []:\n",
    "                output.extend(store_categories(category['categories'], target_ids, is_subtopic=True))\n",
    "        else:\n",
    "            if is_subtopic:\n",
    "                output.append(category['id'])\n",
    "                if category['categories'] != []:\n",
    "                    output.extend(store_categories(category['categories'], target_ids, is_subtopic=True))\n",
    "            else:\n",
    "                if category['categories'] != []:\n",
    "                    output.extend(store_categories(category['categories'], target_ids, is_subtopic=False))\n",
    "    return output"
   ]
  },
  {
   "cell_type": "markdown",
   "metadata": {},
   "source": [
    "Now we define the base categories list and perform the filtering"
   ]
  },
  {
   "cell_type": "code",
   "execution_count": 86,
   "metadata": {},
   "outputs": [],
   "source": [
    "categories_culture = {'Art Gallery':'4bf58dd8d48988d1e2931735',\n",
    "    'Concert Hall':'5032792091d4c4b30a586d5c',\n",
    "    'Museum':'4bf58dd8d48988d181941735'}\n",
    "categories_sports = {'Stadium':'4bf58dd8d48988d184941735',\n",
    "    'College Stadium':'4bf58dd8d48988d1b4941735',\n",
    "    'Gym / Fitness Center':'4bf58dd8d48988d175941735',\n",
    "    'College Gym':'4bf58dd8d48988d1b2941735'}\n",
    "categories_church = {'Spiritual Center':'4bf58dd8d48988d131941735'}"
   ]
  },
  {
   "cell_type": "code",
   "execution_count": 87,
   "metadata": {},
   "outputs": [],
   "source": [
    "sports_list = store_categories(results, list(categories_sports.values()))\n",
    "culture_list = store_categories(results, list(categories_culture.values()))\n",
    "church_list = store_categories(results, list(categories_church.values()))"
   ]
  },
  {
   "cell_type": "markdown",
   "metadata": {},
   "source": [
    "Now we convert the category ids of the obtained venues and remove those venues, which do not have an assigned category from our lists"
   ]
  },
  {
   "cell_type": "code",
   "execution_count": 88,
   "metadata": {},
   "outputs": [],
   "source": [
    "def label_category(category_id):\n",
    "    if category_id in sports_list:\n",
    "        return 'sport'\n",
    "    if category_id in culture_list:\n",
    "        return 'culture'\n",
    "    if category_id in church_list:\n",
    "        return 'church'\n",
    "    return None"
   ]
  },
  {
   "cell_type": "code",
   "execution_count": 89,
   "metadata": {},
   "outputs": [
    {
     "data": {
      "text/html": [
       "<div>\n",
       "<style scoped>\n",
       "    .dataframe tbody tr th:only-of-type {\n",
       "        vertical-align: middle;\n",
       "    }\n",
       "\n",
       "    .dataframe tbody tr th {\n",
       "        vertical-align: top;\n",
       "    }\n",
       "\n",
       "    .dataframe thead th {\n",
       "        text-align: right;\n",
       "    }\n",
       "</style>\n",
       "<table border=\"1\" class=\"dataframe\">\n",
       "  <thead>\n",
       "    <tr style=\"text-align: right;\">\n",
       "      <th></th>\n",
       "      <th>neighborhood</th>\n",
       "      <th>neighborhood_latitude</th>\n",
       "      <th>neighborhood_longitude</th>\n",
       "      <th>venue</th>\n",
       "      <th>venue_latitude</th>\n",
       "      <th>venue_longitude</th>\n",
       "      <th>venue_category</th>\n",
       "      <th>venue_category_id</th>\n",
       "      <th>category_group</th>\n",
       "    </tr>\n",
       "  </thead>\n",
       "  <tbody>\n",
       "    <tr>\n",
       "      <th>0</th>\n",
       "      <td>Congress Heights</td>\n",
       "      <td>38.8429</td>\n",
       "      <td>-77.00057</td>\n",
       "      <td>MLK Deli</td>\n",
       "      <td>38.843560</td>\n",
       "      <td>-76.999808</td>\n",
       "      <td>Deli / Bodega</td>\n",
       "      <td>4bf58dd8d48988d146941735</td>\n",
       "      <td>None</td>\n",
       "    </tr>\n",
       "    <tr>\n",
       "      <th>1</th>\n",
       "      <td>Congress Heights</td>\n",
       "      <td>38.8429</td>\n",
       "      <td>-77.00057</td>\n",
       "      <td>Malcolm X and MLK</td>\n",
       "      <td>38.843144</td>\n",
       "      <td>-76.998744</td>\n",
       "      <td>Road</td>\n",
       "      <td>4bf58dd8d48988d1f9931735</td>\n",
       "      <td>None</td>\n",
       "    </tr>\n",
       "    <tr>\n",
       "      <th>2</th>\n",
       "      <td>Congress Heights</td>\n",
       "      <td>38.8429</td>\n",
       "      <td>-77.00057</td>\n",
       "      <td>Alabama and MLK Ave SE</td>\n",
       "      <td>38.843196</td>\n",
       "      <td>-76.998774</td>\n",
       "      <td>Intersection</td>\n",
       "      <td>52f2ab2ebcbc57f1066b8b4c</td>\n",
       "      <td>None</td>\n",
       "    </tr>\n",
       "    <tr>\n",
       "      <th>3</th>\n",
       "      <td>Congress Heights</td>\n",
       "      <td>38.8429</td>\n",
       "      <td>-77.00057</td>\n",
       "      <td>Popeyes Louisiana Kitchen</td>\n",
       "      <td>38.844926</td>\n",
       "      <td>-76.997012</td>\n",
       "      <td>Fried Chicken Joint</td>\n",
       "      <td>4d4ae6fc7a7b7dea34424761</td>\n",
       "      <td>None</td>\n",
       "    </tr>\n",
       "    <tr>\n",
       "      <th>4</th>\n",
       "      <td>Congress Heights</td>\n",
       "      <td>38.8429</td>\n",
       "      <td>-77.00057</td>\n",
       "      <td>Capital City Creamery</td>\n",
       "      <td>38.844296</td>\n",
       "      <td>-76.998362</td>\n",
       "      <td>Ice Cream Shop</td>\n",
       "      <td>4bf58dd8d48988d1c9941735</td>\n",
       "      <td>None</td>\n",
       "    </tr>\n",
       "  </tbody>\n",
       "</table>\n",
       "</div>"
      ],
      "text/plain": [
       "       neighborhood  neighborhood_latitude  neighborhood_longitude  \\\n",
       "0  Congress Heights                38.8429               -77.00057   \n",
       "1  Congress Heights                38.8429               -77.00057   \n",
       "2  Congress Heights                38.8429               -77.00057   \n",
       "3  Congress Heights                38.8429               -77.00057   \n",
       "4  Congress Heights                38.8429               -77.00057   \n",
       "\n",
       "                       venue  venue_latitude  venue_longitude  \\\n",
       "0                   MLK Deli       38.843560       -76.999808   \n",
       "1          Malcolm X and MLK       38.843144       -76.998744   \n",
       "2     Alabama and MLK Ave SE       38.843196       -76.998774   \n",
       "3  Popeyes Louisiana Kitchen       38.844926       -76.997012   \n",
       "4      Capital City Creamery       38.844296       -76.998362   \n",
       "\n",
       "        venue_category         venue_category_id category_group  \n",
       "0        Deli / Bodega  4bf58dd8d48988d146941735           None  \n",
       "1                 Road  4bf58dd8d48988d1f9931735           None  \n",
       "2         Intersection  52f2ab2ebcbc57f1066b8b4c           None  \n",
       "3  Fried Chicken Joint  4d4ae6fc7a7b7dea34424761           None  \n",
       "4       Ice Cream Shop  4bf58dd8d48988d1c9941735           None  "
      ]
     },
     "execution_count": 89,
     "metadata": {},
     "output_type": "execute_result"
    }
   ],
   "source": [
    "washington_venues['category_group'] = washington_venues['venue_category_id'].apply(label_category)\n",
    "washington_venues.head()"
   ]
  },
  {
   "cell_type": "code",
   "execution_count": 91,
   "metadata": {},
   "outputs": [],
   "source": [
    "washington_venues.dropna(inplace=True)"
   ]
  },
  {
   "cell_type": "markdown",
   "metadata": {},
   "source": [
    "Now we calculate the venue count for each venue type (church, sports and culture) for each neighborhood"
   ]
  },
  {
   "cell_type": "code",
   "execution_count": 100,
   "metadata": {},
   "outputs": [],
   "source": [
    "venues_counts = washington_venues.groupby(\n",
    "    by=['neighborhood','category_group'], as_index=False)['venue_category_id'].agg({'count':'count'})"
   ]
  },
  {
   "cell_type": "code",
   "execution_count": 106,
   "metadata": {},
   "outputs": [
    {
     "data": {
      "text/html": [
       "<div>\n",
       "<style scoped>\n",
       "    .dataframe tbody tr th:only-of-type {\n",
       "        vertical-align: middle;\n",
       "    }\n",
       "\n",
       "    .dataframe tbody tr th {\n",
       "        vertical-align: top;\n",
       "    }\n",
       "\n",
       "    .dataframe thead th {\n",
       "        text-align: right;\n",
       "    }\n",
       "</style>\n",
       "<table border=\"1\" class=\"dataframe\">\n",
       "  <thead>\n",
       "    <tr style=\"text-align: right;\">\n",
       "      <th></th>\n",
       "      <th>church</th>\n",
       "      <th>culture</th>\n",
       "      <th>neighborhood</th>\n",
       "      <th>sport</th>\n",
       "    </tr>\n",
       "  </thead>\n",
       "  <tbody>\n",
       "    <tr>\n",
       "      <th>0</th>\n",
       "      <td>0.0</td>\n",
       "      <td>1.0</td>\n",
       "      <td>Adams Morgan</td>\n",
       "      <td>2.0</td>\n",
       "    </tr>\n",
       "    <tr>\n",
       "      <th>1</th>\n",
       "      <td>0.0</td>\n",
       "      <td>0.0</td>\n",
       "      <td>Barnaby Woods</td>\n",
       "      <td>1.0</td>\n",
       "    </tr>\n",
       "    <tr>\n",
       "      <th>2</th>\n",
       "      <td>0.0</td>\n",
       "      <td>0.0</td>\n",
       "      <td>Bloomingdale</td>\n",
       "      <td>1.0</td>\n",
       "    </tr>\n",
       "    <tr>\n",
       "      <th>3</th>\n",
       "      <td>0.0</td>\n",
       "      <td>0.0</td>\n",
       "      <td>Brookland</td>\n",
       "      <td>1.0</td>\n",
       "    </tr>\n",
       "    <tr>\n",
       "      <th>4</th>\n",
       "      <td>0.0</td>\n",
       "      <td>0.0</td>\n",
       "      <td>Burrville</td>\n",
       "      <td>1.0</td>\n",
       "    </tr>\n",
       "  </tbody>\n",
       "</table>\n",
       "</div>"
      ],
      "text/plain": [
       "   church  culture   neighborhood  sport\n",
       "0     0.0      1.0   Adams Morgan    2.0\n",
       "1     0.0      0.0  Barnaby Woods    1.0\n",
       "2     0.0      0.0   Bloomingdale    1.0\n",
       "3     0.0      0.0      Brookland    1.0\n",
       "4     0.0      0.0      Burrville    1.0"
      ]
     },
     "execution_count": 106,
     "metadata": {},
     "output_type": "execute_result"
    }
   ],
   "source": [
    "neighb_venues = pd.DataFrame()\n",
    "for neigh in pd.unique(venues_counts['neighborhood']):\n",
    "    new_row = {'neighborhood':neigh, 'sport':0,'culture':0,'church':0}\n",
    "    for row in venues_counts[venues_counts['neighborhood'] == neigh].iterrows():\n",
    "        new_row[row[1]['category_group']] = row[1]['count']\n",
    "    neighb_venues = neighb_venues.append(new_row, ignore_index=True)\n",
    "neighb_venues.head()"
   ]
  },
  {
   "cell_type": "markdown",
   "metadata": {},
   "source": [
    "The next step is to merge the crimes dataset and the venue count dataset"
   ]
  },
  {
   "cell_type": "code",
   "execution_count": 108,
   "metadata": {},
   "outputs": [
    {
     "data": {
      "text/html": [
       "<div>\n",
       "<style scoped>\n",
       "    .dataframe tbody tr th:only-of-type {\n",
       "        vertical-align: middle;\n",
       "    }\n",
       "\n",
       "    .dataframe tbody tr th {\n",
       "        vertical-align: top;\n",
       "    }\n",
       "\n",
       "    .dataframe thead th {\n",
       "        text-align: right;\n",
       "    }\n",
       "</style>\n",
       "<table border=\"1\" class=\"dataframe\">\n",
       "  <thead>\n",
       "    <tr style=\"text-align: right;\">\n",
       "      <th></th>\n",
       "      <th>cluster</th>\n",
       "      <th>crime</th>\n",
       "      <th>score</th>\n",
       "      <th>neighborhood</th>\n",
       "      <th>latitude</th>\n",
       "      <th>longitude</th>\n",
       "      <th>church</th>\n",
       "      <th>culture</th>\n",
       "      <th>sport</th>\n",
       "    </tr>\n",
       "  </thead>\n",
       "  <tbody>\n",
       "    <tr>\n",
       "      <th>0</th>\n",
       "      <td>Cluster 26</td>\n",
       "      <td>THEFT/OTHER</td>\n",
       "      <td>37</td>\n",
       "      <td>Capitol Hill</td>\n",
       "      <td>38.88956</td>\n",
       "      <td>-77.00942</td>\n",
       "      <td>0.0</td>\n",
       "      <td>1.0</td>\n",
       "      <td>1.0</td>\n",
       "    </tr>\n",
       "    <tr>\n",
       "      <th>1</th>\n",
       "      <td>Cluster 26</td>\n",
       "      <td>THEFT/OTHER</td>\n",
       "      <td>37</td>\n",
       "      <td>Lincoln Park</td>\n",
       "      <td>38.88927</td>\n",
       "      <td>-76.99088</td>\n",
       "      <td>NaN</td>\n",
       "      <td>NaN</td>\n",
       "      <td>NaN</td>\n",
       "    </tr>\n",
       "    <tr>\n",
       "      <th>2</th>\n",
       "      <td>Cluster 26</td>\n",
       "      <td>THEFT F/AUTO</td>\n",
       "      <td>33</td>\n",
       "      <td>Capitol Hill</td>\n",
       "      <td>38.88956</td>\n",
       "      <td>-77.00942</td>\n",
       "      <td>0.0</td>\n",
       "      <td>1.0</td>\n",
       "      <td>1.0</td>\n",
       "    </tr>\n",
       "    <tr>\n",
       "      <th>3</th>\n",
       "      <td>Cluster 26</td>\n",
       "      <td>THEFT F/AUTO</td>\n",
       "      <td>33</td>\n",
       "      <td>Lincoln Park</td>\n",
       "      <td>38.88927</td>\n",
       "      <td>-76.99088</td>\n",
       "      <td>NaN</td>\n",
       "      <td>NaN</td>\n",
       "      <td>NaN</td>\n",
       "    </tr>\n",
       "    <tr>\n",
       "      <th>4</th>\n",
       "      <td>Cluster 2</td>\n",
       "      <td>THEFT/OTHER</td>\n",
       "      <td>37</td>\n",
       "      <td>Columbia Heights</td>\n",
       "      <td>38.92525</td>\n",
       "      <td>-77.02970</td>\n",
       "      <td>0.0</td>\n",
       "      <td>1.0</td>\n",
       "      <td>4.0</td>\n",
       "    </tr>\n",
       "  </tbody>\n",
       "</table>\n",
       "</div>"
      ],
      "text/plain": [
       "      cluster         crime  score      neighborhood  latitude  longitude  \\\n",
       "0  Cluster 26   THEFT/OTHER     37      Capitol Hill  38.88956  -77.00942   \n",
       "1  Cluster 26   THEFT/OTHER     37      Lincoln Park  38.88927  -76.99088   \n",
       "2  Cluster 26  THEFT F/AUTO     33      Capitol Hill  38.88956  -77.00942   \n",
       "3  Cluster 26  THEFT F/AUTO     33      Lincoln Park  38.88927  -76.99088   \n",
       "4   Cluster 2   THEFT/OTHER     37  Columbia Heights  38.92525  -77.02970   \n",
       "\n",
       "   church  culture  sport  \n",
       "0     0.0      1.0    1.0  \n",
       "1     NaN      NaN    NaN  \n",
       "2     0.0      1.0    1.0  \n",
       "3     NaN      NaN    NaN  \n",
       "4     0.0      1.0    4.0  "
      ]
     },
     "execution_count": 108,
     "metadata": {},
     "output_type": "execute_result"
    }
   ],
   "source": [
    "crimes_df = pd.merge(crimes_df, neighb_venues, on='neighborhood', how='left')\n",
    "crimes_df.head()"
   ]
  },
  {
   "cell_type": "markdown",
   "metadata": {},
   "source": [
    "For some neighborhoods, there are no venues of the required category, so we'll replace the missing data with zeros"
   ]
  },
  {
   "cell_type": "code",
   "execution_count": 110,
   "metadata": {},
   "outputs": [],
   "source": [
    "crimes_df = crimes_df.fillna(value=0)"
   ]
  },
  {
   "cell_type": "markdown",
   "metadata": {},
   "source": [
    "Now we sum up the neighborhoods venues counts and crime scores within each cluster"
   ]
  },
  {
   "cell_type": "code",
   "execution_count": 112,
   "metadata": {},
   "outputs": [],
   "source": [
    "clustered_crimes = crimes_df.groupby('cluster')[['score','church','culture','sport']].agg('sum')"
   ]
  },
  {
   "cell_type": "markdown",
   "metadata": {},
   "source": [
    "Finally, we apply the ordinary least squares model (OLM) to the constructed data to estimate the influence of each venue type on the crimes severity, and test whether such influence is statistically significant"
   ]
  },
  {
   "cell_type": "code",
   "execution_count": 120,
   "metadata": {},
   "outputs": [
    {
     "name": "stderr",
     "output_type": "stream",
     "text": [
      "/opt/conda/envs/Python36/lib/python3.6/site-packages/numpy/core/fromnumeric.py:2223: FutureWarning: Method .ptp is deprecated and will be removed in a future version. Use numpy.ptp instead.\n",
      "  return ptp(axis=axis, out=out, **kwargs)\n"
     ]
    },
    {
     "data": {
      "text/html": [
       "<table class=\"simpletable\">\n",
       "<caption>OLS Regression Results</caption>\n",
       "<tr>\n",
       "  <th>Dep. Variable:</th>          <td>score</td>      <th>  R-squared:         </th> <td>   0.301</td>\n",
       "</tr>\n",
       "<tr>\n",
       "  <th>Model:</th>                   <td>OLS</td>       <th>  Adj. R-squared:    </th> <td>   0.243</td>\n",
       "</tr>\n",
       "<tr>\n",
       "  <th>Method:</th>             <td>Least Squares</td>  <th>  F-statistic:       </th> <td>   5.163</td>\n",
       "</tr>\n",
       "<tr>\n",
       "  <th>Date:</th>             <td>Tue, 21 Apr 2020</td> <th>  Prob (F-statistic):</th>  <td>0.00452</td>\n",
       "</tr>\n",
       "<tr>\n",
       "  <th>Time:</th>                 <td>21:06:15</td>     <th>  Log-Likelihood:    </th> <td> -466.71</td>\n",
       "</tr>\n",
       "<tr>\n",
       "  <th>No. Observations:</th>      <td>    40</td>      <th>  AIC:               </th> <td>   941.4</td>\n",
       "</tr>\n",
       "<tr>\n",
       "  <th>Df Residuals:</th>          <td>    36</td>      <th>  BIC:               </th> <td>   948.2</td>\n",
       "</tr>\n",
       "<tr>\n",
       "  <th>Df Model:</th>              <td>     3</td>      <th>                     </th>     <td> </td>   \n",
       "</tr>\n",
       "<tr>\n",
       "  <th>Covariance Type:</th>      <td>nonrobust</td>    <th>                     </th>     <td> </td>   \n",
       "</tr>\n",
       "</table>\n",
       "<table class=\"simpletable\">\n",
       "<tr>\n",
       "     <td></td>        <th>coef</th>     <th>std err</th>      <th>t</th>      <th>P>|t|</th>  <th>[0.025</th>    <th>0.975]</th>  \n",
       "</tr>\n",
       "<tr>\n",
       "  <th>const</th>   <td> 2.662e+04</td> <td> 5749.002</td> <td>    4.630</td> <td> 0.000</td> <td>  1.5e+04</td> <td> 3.83e+04</td>\n",
       "</tr>\n",
       "<tr>\n",
       "  <th>church</th>  <td>  641.5834</td> <td>  460.168</td> <td>    1.394</td> <td> 0.172</td> <td> -291.681</td> <td> 1574.848</td>\n",
       "</tr>\n",
       "<tr>\n",
       "  <th>culture</th> <td>  -84.6749</td> <td>   39.947</td> <td>   -2.120</td> <td> 0.041</td> <td> -165.691</td> <td>   -3.659</td>\n",
       "</tr>\n",
       "<tr>\n",
       "  <th>sport</th>   <td>   89.6720</td> <td>   25.484</td> <td>    3.519</td> <td> 0.001</td> <td>   37.987</td> <td>  141.357</td>\n",
       "</tr>\n",
       "</table>\n",
       "<table class=\"simpletable\">\n",
       "<tr>\n",
       "  <th>Omnibus:</th>       <td>12.877</td> <th>  Durbin-Watson:     </th> <td>   1.592</td>\n",
       "</tr>\n",
       "<tr>\n",
       "  <th>Prob(Omnibus):</th> <td> 0.002</td> <th>  Jarque-Bera (JB):  </th> <td>  13.027</td>\n",
       "</tr>\n",
       "<tr>\n",
       "  <th>Skew:</th>          <td> 1.219</td> <th>  Prob(JB):          </th> <td> 0.00148</td>\n",
       "</tr>\n",
       "<tr>\n",
       "  <th>Kurtosis:</th>      <td> 4.367</td> <th>  Cond. No.          </th> <td>    675.</td>\n",
       "</tr>\n",
       "</table><br/><br/>Warnings:<br/>[1] Standard Errors assume that the covariance matrix of the errors is correctly specified."
      ],
      "text/plain": [
       "<class 'statsmodels.iolib.summary.Summary'>\n",
       "\"\"\"\n",
       "                            OLS Regression Results                            \n",
       "==============================================================================\n",
       "Dep. Variable:                  score   R-squared:                       0.301\n",
       "Model:                            OLS   Adj. R-squared:                  0.243\n",
       "Method:                 Least Squares   F-statistic:                     5.163\n",
       "Date:                Tue, 21 Apr 2020   Prob (F-statistic):            0.00452\n",
       "Time:                        21:06:15   Log-Likelihood:                -466.71\n",
       "No. Observations:                  40   AIC:                             941.4\n",
       "Df Residuals:                      36   BIC:                             948.2\n",
       "Df Model:                           3                                         \n",
       "Covariance Type:            nonrobust                                         \n",
       "==============================================================================\n",
       "                 coef    std err          t      P>|t|      [0.025      0.975]\n",
       "------------------------------------------------------------------------------\n",
       "const       2.662e+04   5749.002      4.630      0.000     1.5e+04    3.83e+04\n",
       "church       641.5834    460.168      1.394      0.172    -291.681    1574.848\n",
       "culture      -84.6749     39.947     -2.120      0.041    -165.691      -3.659\n",
       "sport         89.6720     25.484      3.519      0.001      37.987     141.357\n",
       "==============================================================================\n",
       "Omnibus:                       12.877   Durbin-Watson:                   1.592\n",
       "Prob(Omnibus):                  0.002   Jarque-Bera (JB):               13.027\n",
       "Skew:                           1.219   Prob(JB):                      0.00148\n",
       "Kurtosis:                       4.367   Cond. No.                         675.\n",
       "==============================================================================\n",
       "\n",
       "Warnings:\n",
       "[1] Standard Errors assume that the covariance matrix of the errors is correctly specified.\n",
       "\"\"\""
      ]
     },
     "execution_count": 120,
     "metadata": {},
     "output_type": "execute_result"
    }
   ],
   "source": [
    "X = clustered_crimes[['church','culture','sport']]\n",
    "X = sm.add_constant(X)\n",
    "y = clustered_crimes['score']\n",
    "model = sm.OLS(y, X).fit()\n",
    "predictions = model.predict(X)\n",
    "model.summary()"
   ]
  },
  {
   "cell_type": "markdown",
   "metadata": {},
   "source": [
    "First of all, we note that the model has quite low R-squared value, indicating that the count of the selected venues is not enough to explain the crime severities, or that the dependency is non-linear.\n",
    "\n",
    "The t values for sports and culture object counts are below 0.05, so their influence is statistically significant. The t value for the churches count, on the other hand, is not, and thus churches' influence is not a statistically significant one.\n",
    "\n",
    "The coefficient values indicate that the influence of sports venues on crime severity is positive, and culture objects count negative, as was expected. The sports objects have somewhat larger influence (the coefficient absolute value is 3.52 vs. 2.12 for the culture venues)."
   ]
  },
  {
   "cell_type": "markdown",
   "metadata": {},
   "source": [
    "In addition, let's check, whether the frequency of particular crime types correlate with particular venue counts form our lists "
   ]
  },
  {
   "cell_type": "code",
   "execution_count": 126,
   "metadata": {},
   "outputs": [],
   "source": [
    "clustered_crime_types = crimes_df.groupby('crime', as_index=False)[['crime','church','culture','sport']].agg('sum')"
   ]
  },
  {
   "cell_type": "code",
   "execution_count": 145,
   "metadata": {},
   "outputs": [
    {
     "data": {
      "text/html": [
       "<div>\n",
       "<style scoped>\n",
       "    .dataframe tbody tr th:only-of-type {\n",
       "        vertical-align: middle;\n",
       "    }\n",
       "\n",
       "    .dataframe tbody tr th {\n",
       "        vertical-align: top;\n",
       "    }\n",
       "\n",
       "    .dataframe thead th {\n",
       "        text-align: right;\n",
       "    }\n",
       "</style>\n",
       "<table border=\"1\" class=\"dataframe\">\n",
       "  <thead>\n",
       "    <tr style=\"text-align: right;\">\n",
       "      <th></th>\n",
       "      <th>crime</th>\n",
       "      <th>church</th>\n",
       "      <th>culture</th>\n",
       "      <th>sport</th>\n",
       "    </tr>\n",
       "  </thead>\n",
       "  <tbody>\n",
       "    <tr>\n",
       "      <th>0</th>\n",
       "      <td>ARSON</td>\n",
       "      <td>0.0</td>\n",
       "      <td>0.0</td>\n",
       "      <td>1.0</td>\n",
       "    </tr>\n",
       "    <tr>\n",
       "      <th>1</th>\n",
       "      <td>ASSAULT W/DANGEROUS WEAPON</td>\n",
       "      <td>2.0</td>\n",
       "      <td>92.0</td>\n",
       "      <td>236.0</td>\n",
       "    </tr>\n",
       "    <tr>\n",
       "      <th>2</th>\n",
       "      <td>BURGLARY</td>\n",
       "      <td>0.0</td>\n",
       "      <td>78.0</td>\n",
       "      <td>192.0</td>\n",
       "    </tr>\n",
       "    <tr>\n",
       "      <th>3</th>\n",
       "      <td>HOMICIDE</td>\n",
       "      <td>2.0</td>\n",
       "      <td>31.0</td>\n",
       "      <td>23.0</td>\n",
       "    </tr>\n",
       "    <tr>\n",
       "      <th>4</th>\n",
       "      <td>MOTOR VEHICLE THEFT</td>\n",
       "      <td>8.0</td>\n",
       "      <td>187.0</td>\n",
       "      <td>316.0</td>\n",
       "    </tr>\n",
       "  </tbody>\n",
       "</table>\n",
       "</div>"
      ],
      "text/plain": [
       "                        crime  church  culture  sport\n",
       "0                       ARSON     0.0      0.0    1.0\n",
       "1  ASSAULT W/DANGEROUS WEAPON     2.0     92.0  236.0\n",
       "2                    BURGLARY     0.0     78.0  192.0\n",
       "3                    HOMICIDE     2.0     31.0   23.0\n",
       "4         MOTOR VEHICLE THEFT     8.0    187.0  316.0"
      ]
     },
     "execution_count": 145,
     "metadata": {},
     "output_type": "execute_result"
    }
   ],
   "source": [
    "clustered_crime_types.head()"
   ]
  },
  {
   "cell_type": "code",
   "execution_count": 147,
   "metadata": {},
   "outputs": [],
   "source": [
    "clustered_crime_types = pd.get_dummies(clustered_crime_types, columns=['crime'])"
   ]
  },
  {
   "cell_type": "code",
   "execution_count": 148,
   "metadata": {},
   "outputs": [
    {
     "data": {
      "text/html": [
       "<div>\n",
       "<style scoped>\n",
       "    .dataframe tbody tr th:only-of-type {\n",
       "        vertical-align: middle;\n",
       "    }\n",
       "\n",
       "    .dataframe tbody tr th {\n",
       "        vertical-align: top;\n",
       "    }\n",
       "\n",
       "    .dataframe thead th {\n",
       "        text-align: right;\n",
       "    }\n",
       "</style>\n",
       "<table border=\"1\" class=\"dataframe\">\n",
       "  <thead>\n",
       "    <tr style=\"text-align: right;\">\n",
       "      <th></th>\n",
       "      <th>church</th>\n",
       "      <th>culture</th>\n",
       "      <th>sport</th>\n",
       "      <th>crime_ARSON</th>\n",
       "      <th>crime_ASSAULT W/DANGEROUS WEAPON</th>\n",
       "      <th>crime_BURGLARY</th>\n",
       "      <th>crime_HOMICIDE</th>\n",
       "      <th>crime_MOTOR VEHICLE THEFT</th>\n",
       "      <th>crime_ROBBERY</th>\n",
       "      <th>crime_SEX ABUSE</th>\n",
       "      <th>crime_THEFT F/AUTO</th>\n",
       "      <th>crime_THEFT/OTHER</th>\n",
       "    </tr>\n",
       "  </thead>\n",
       "  <tbody>\n",
       "    <tr>\n",
       "      <th>church</th>\n",
       "      <td>1.000000</td>\n",
       "      <td>0.993894</td>\n",
       "      <td>0.984370</td>\n",
       "      <td>-0.201979</td>\n",
       "      <td>-0.185302</td>\n",
       "      <td>-0.201979</td>\n",
       "      <td>-0.185302</td>\n",
       "      <td>-0.135271</td>\n",
       "      <td>-0.151948</td>\n",
       "      <td>-0.201979</td>\n",
       "      <td>0.415077</td>\n",
       "      <td>0.848684</td>\n",
       "    </tr>\n",
       "    <tr>\n",
       "      <th>culture</th>\n",
       "      <td>0.993894</td>\n",
       "      <td>1.000000</td>\n",
       "      <td>0.997465</td>\n",
       "      <td>-0.217032</td>\n",
       "      <td>-0.183209</td>\n",
       "      <td>-0.188356</td>\n",
       "      <td>-0.205635</td>\n",
       "      <td>-0.148283</td>\n",
       "      <td>-0.140562</td>\n",
       "      <td>-0.213356</td>\n",
       "      <td>0.508696</td>\n",
       "      <td>0.787737</td>\n",
       "    </tr>\n",
       "    <tr>\n",
       "      <th>sport</th>\n",
       "      <td>0.984370</td>\n",
       "      <td>0.997465</td>\n",
       "      <td>1.000000</td>\n",
       "      <td>-0.236578</td>\n",
       "      <td>-0.162108</td>\n",
       "      <td>-0.176051</td>\n",
       "      <td>-0.229606</td>\n",
       "      <td>-0.136757</td>\n",
       "      <td>-0.133905</td>\n",
       "      <td>-0.229606</td>\n",
       "      <td>0.555653</td>\n",
       "      <td>0.748957</td>\n",
       "    </tr>\n",
       "    <tr>\n",
       "      <th>crime_ARSON</th>\n",
       "      <td>-0.201979</td>\n",
       "      <td>-0.217032</td>\n",
       "      <td>-0.236578</td>\n",
       "      <td>1.000000</td>\n",
       "      <td>-0.125000</td>\n",
       "      <td>-0.125000</td>\n",
       "      <td>-0.125000</td>\n",
       "      <td>-0.125000</td>\n",
       "      <td>-0.125000</td>\n",
       "      <td>-0.125000</td>\n",
       "      <td>-0.125000</td>\n",
       "      <td>-0.125000</td>\n",
       "    </tr>\n",
       "    <tr>\n",
       "      <th>crime_ASSAULT W/DANGEROUS WEAPON</th>\n",
       "      <td>-0.185302</td>\n",
       "      <td>-0.183209</td>\n",
       "      <td>-0.162108</td>\n",
       "      <td>-0.125000</td>\n",
       "      <td>1.000000</td>\n",
       "      <td>-0.125000</td>\n",
       "      <td>-0.125000</td>\n",
       "      <td>-0.125000</td>\n",
       "      <td>-0.125000</td>\n",
       "      <td>-0.125000</td>\n",
       "      <td>-0.125000</td>\n",
       "      <td>-0.125000</td>\n",
       "    </tr>\n",
       "    <tr>\n",
       "      <th>crime_BURGLARY</th>\n",
       "      <td>-0.201979</td>\n",
       "      <td>-0.188356</td>\n",
       "      <td>-0.176051</td>\n",
       "      <td>-0.125000</td>\n",
       "      <td>-0.125000</td>\n",
       "      <td>1.000000</td>\n",
       "      <td>-0.125000</td>\n",
       "      <td>-0.125000</td>\n",
       "      <td>-0.125000</td>\n",
       "      <td>-0.125000</td>\n",
       "      <td>-0.125000</td>\n",
       "      <td>-0.125000</td>\n",
       "    </tr>\n",
       "    <tr>\n",
       "      <th>crime_HOMICIDE</th>\n",
       "      <td>-0.185302</td>\n",
       "      <td>-0.205635</td>\n",
       "      <td>-0.229606</td>\n",
       "      <td>-0.125000</td>\n",
       "      <td>-0.125000</td>\n",
       "      <td>-0.125000</td>\n",
       "      <td>1.000000</td>\n",
       "      <td>-0.125000</td>\n",
       "      <td>-0.125000</td>\n",
       "      <td>-0.125000</td>\n",
       "      <td>-0.125000</td>\n",
       "      <td>-0.125000</td>\n",
       "    </tr>\n",
       "    <tr>\n",
       "      <th>crime_MOTOR VEHICLE THEFT</th>\n",
       "      <td>-0.135271</td>\n",
       "      <td>-0.148283</td>\n",
       "      <td>-0.136757</td>\n",
       "      <td>-0.125000</td>\n",
       "      <td>-0.125000</td>\n",
       "      <td>-0.125000</td>\n",
       "      <td>-0.125000</td>\n",
       "      <td>1.000000</td>\n",
       "      <td>-0.125000</td>\n",
       "      <td>-0.125000</td>\n",
       "      <td>-0.125000</td>\n",
       "      <td>-0.125000</td>\n",
       "    </tr>\n",
       "    <tr>\n",
       "      <th>crime_ROBBERY</th>\n",
       "      <td>-0.151948</td>\n",
       "      <td>-0.140562</td>\n",
       "      <td>-0.133905</td>\n",
       "      <td>-0.125000</td>\n",
       "      <td>-0.125000</td>\n",
       "      <td>-0.125000</td>\n",
       "      <td>-0.125000</td>\n",
       "      <td>-0.125000</td>\n",
       "      <td>1.000000</td>\n",
       "      <td>-0.125000</td>\n",
       "      <td>-0.125000</td>\n",
       "      <td>-0.125000</td>\n",
       "    </tr>\n",
       "    <tr>\n",
       "      <th>crime_SEX ABUSE</th>\n",
       "      <td>-0.201979</td>\n",
       "      <td>-0.213356</td>\n",
       "      <td>-0.229606</td>\n",
       "      <td>-0.125000</td>\n",
       "      <td>-0.125000</td>\n",
       "      <td>-0.125000</td>\n",
       "      <td>-0.125000</td>\n",
       "      <td>-0.125000</td>\n",
       "      <td>-0.125000</td>\n",
       "      <td>1.000000</td>\n",
       "      <td>-0.125000</td>\n",
       "      <td>-0.125000</td>\n",
       "    </tr>\n",
       "    <tr>\n",
       "      <th>crime_THEFT F/AUTO</th>\n",
       "      <td>0.415077</td>\n",
       "      <td>0.508696</td>\n",
       "      <td>0.555653</td>\n",
       "      <td>-0.125000</td>\n",
       "      <td>-0.125000</td>\n",
       "      <td>-0.125000</td>\n",
       "      <td>-0.125000</td>\n",
       "      <td>-0.125000</td>\n",
       "      <td>-0.125000</td>\n",
       "      <td>-0.125000</td>\n",
       "      <td>1.000000</td>\n",
       "      <td>-0.125000</td>\n",
       "    </tr>\n",
       "    <tr>\n",
       "      <th>crime_THEFT/OTHER</th>\n",
       "      <td>0.848684</td>\n",
       "      <td>0.787737</td>\n",
       "      <td>0.748957</td>\n",
       "      <td>-0.125000</td>\n",
       "      <td>-0.125000</td>\n",
       "      <td>-0.125000</td>\n",
       "      <td>-0.125000</td>\n",
       "      <td>-0.125000</td>\n",
       "      <td>-0.125000</td>\n",
       "      <td>-0.125000</td>\n",
       "      <td>-0.125000</td>\n",
       "      <td>1.000000</td>\n",
       "    </tr>\n",
       "  </tbody>\n",
       "</table>\n",
       "</div>"
      ],
      "text/plain": [
       "                                    church   culture     sport  crime_ARSON  \\\n",
       "church                            1.000000  0.993894  0.984370    -0.201979   \n",
       "culture                           0.993894  1.000000  0.997465    -0.217032   \n",
       "sport                             0.984370  0.997465  1.000000    -0.236578   \n",
       "crime_ARSON                      -0.201979 -0.217032 -0.236578     1.000000   \n",
       "crime_ASSAULT W/DANGEROUS WEAPON -0.185302 -0.183209 -0.162108    -0.125000   \n",
       "crime_BURGLARY                   -0.201979 -0.188356 -0.176051    -0.125000   \n",
       "crime_HOMICIDE                   -0.185302 -0.205635 -0.229606    -0.125000   \n",
       "crime_MOTOR VEHICLE THEFT        -0.135271 -0.148283 -0.136757    -0.125000   \n",
       "crime_ROBBERY                    -0.151948 -0.140562 -0.133905    -0.125000   \n",
       "crime_SEX ABUSE                  -0.201979 -0.213356 -0.229606    -0.125000   \n",
       "crime_THEFT F/AUTO                0.415077  0.508696  0.555653    -0.125000   \n",
       "crime_THEFT/OTHER                 0.848684  0.787737  0.748957    -0.125000   \n",
       "\n",
       "                                  crime_ASSAULT W/DANGEROUS WEAPON  \\\n",
       "church                                                   -0.185302   \n",
       "culture                                                  -0.183209   \n",
       "sport                                                    -0.162108   \n",
       "crime_ARSON                                              -0.125000   \n",
       "crime_ASSAULT W/DANGEROUS WEAPON                          1.000000   \n",
       "crime_BURGLARY                                           -0.125000   \n",
       "crime_HOMICIDE                                           -0.125000   \n",
       "crime_MOTOR VEHICLE THEFT                                -0.125000   \n",
       "crime_ROBBERY                                            -0.125000   \n",
       "crime_SEX ABUSE                                          -0.125000   \n",
       "crime_THEFT F/AUTO                                       -0.125000   \n",
       "crime_THEFT/OTHER                                        -0.125000   \n",
       "\n",
       "                                  crime_BURGLARY  crime_HOMICIDE  \\\n",
       "church                                 -0.201979       -0.185302   \n",
       "culture                                -0.188356       -0.205635   \n",
       "sport                                  -0.176051       -0.229606   \n",
       "crime_ARSON                            -0.125000       -0.125000   \n",
       "crime_ASSAULT W/DANGEROUS WEAPON       -0.125000       -0.125000   \n",
       "crime_BURGLARY                          1.000000       -0.125000   \n",
       "crime_HOMICIDE                         -0.125000        1.000000   \n",
       "crime_MOTOR VEHICLE THEFT              -0.125000       -0.125000   \n",
       "crime_ROBBERY                          -0.125000       -0.125000   \n",
       "crime_SEX ABUSE                        -0.125000       -0.125000   \n",
       "crime_THEFT F/AUTO                     -0.125000       -0.125000   \n",
       "crime_THEFT/OTHER                      -0.125000       -0.125000   \n",
       "\n",
       "                                  crime_MOTOR VEHICLE THEFT  crime_ROBBERY  \\\n",
       "church                                            -0.135271      -0.151948   \n",
       "culture                                           -0.148283      -0.140562   \n",
       "sport                                             -0.136757      -0.133905   \n",
       "crime_ARSON                                       -0.125000      -0.125000   \n",
       "crime_ASSAULT W/DANGEROUS WEAPON                  -0.125000      -0.125000   \n",
       "crime_BURGLARY                                    -0.125000      -0.125000   \n",
       "crime_HOMICIDE                                    -0.125000      -0.125000   \n",
       "crime_MOTOR VEHICLE THEFT                          1.000000      -0.125000   \n",
       "crime_ROBBERY                                     -0.125000       1.000000   \n",
       "crime_SEX ABUSE                                   -0.125000      -0.125000   \n",
       "crime_THEFT F/AUTO                                -0.125000      -0.125000   \n",
       "crime_THEFT/OTHER                                 -0.125000      -0.125000   \n",
       "\n",
       "                                  crime_SEX ABUSE  crime_THEFT F/AUTO  \\\n",
       "church                                  -0.201979            0.415077   \n",
       "culture                                 -0.213356            0.508696   \n",
       "sport                                   -0.229606            0.555653   \n",
       "crime_ARSON                             -0.125000           -0.125000   \n",
       "crime_ASSAULT W/DANGEROUS WEAPON        -0.125000           -0.125000   \n",
       "crime_BURGLARY                          -0.125000           -0.125000   \n",
       "crime_HOMICIDE                          -0.125000           -0.125000   \n",
       "crime_MOTOR VEHICLE THEFT               -0.125000           -0.125000   \n",
       "crime_ROBBERY                           -0.125000           -0.125000   \n",
       "crime_SEX ABUSE                          1.000000           -0.125000   \n",
       "crime_THEFT F/AUTO                      -0.125000            1.000000   \n",
       "crime_THEFT/OTHER                       -0.125000           -0.125000   \n",
       "\n",
       "                                  crime_THEFT/OTHER  \n",
       "church                                     0.848684  \n",
       "culture                                    0.787737  \n",
       "sport                                      0.748957  \n",
       "crime_ARSON                               -0.125000  \n",
       "crime_ASSAULT W/DANGEROUS WEAPON          -0.125000  \n",
       "crime_BURGLARY                            -0.125000  \n",
       "crime_HOMICIDE                            -0.125000  \n",
       "crime_MOTOR VEHICLE THEFT                 -0.125000  \n",
       "crime_ROBBERY                             -0.125000  \n",
       "crime_SEX ABUSE                           -0.125000  \n",
       "crime_THEFT F/AUTO                        -0.125000  \n",
       "crime_THEFT/OTHER                          1.000000  "
      ]
     },
     "execution_count": 148,
     "metadata": {},
     "output_type": "execute_result"
    }
   ],
   "source": [
    "clustered_crime_types.corr()"
   ]
  },
  {
   "cell_type": "code",
   "execution_count": 162,
   "metadata": {},
   "outputs": [
    {
     "data": {
      "text/plain": [
       "<matplotlib.axes._subplots.AxesSubplot at 0x7fa0700d2b38>"
      ]
     },
     "execution_count": 162,
     "metadata": {},
     "output_type": "execute_result"
    },
    {
     "data": {
      "image/png": "[encoded data removed]",
      "text/plain": [
       "<Figure size 432x288 with 2 Axes>"
      ]
     },
     "metadata": {
      "needs_background": "light"
     },
     "output_type": "display_data"
    }
   ],
   "source": [
    "cmap = sns.diverging_palette(220, 10, as_cmap=True)\n",
    "mask = np.triu(np.ones_like(clustered_crime_types.corr(), dtype=np.bool))\n",
    "sns.heatmap(clustered_crime_types.corr(), cmap=cmap, mask=mask, center=0,\n",
    "            square=True, linewidths=.5, cbar_kws={\"shrink\": .5})"
   ]
  },
  {
   "cell_type": "markdown",
   "metadata": {},
   "source": [
    "From here, we note that the more culture- and sports-related venues we have, the more theft cases would be. This could be attributed to the mass people gathering places, in which theft could be easier to conduct. On the other hand, more severe crimes have a small negative correlation with such venues. "
   ]
  }
 ],
 "metadata": {
  "kernelspec": {
   "display_name": "Python 3.6",
   "language": "python",
   "name": "python3"
  },
  "language_info": {
   "codemirror_mode": {
    "name": "ipython",
    "version": 3
   },
   "file_extension": ".py",
   "mimetype": "text/x-python",
   "name": "python",
   "nbconvert_exporter": "python",
   "pygments_lexer": "ipython3",
   "version": "3.6.9"
  }
 },
 "nbformat": 4,
 "nbformat_minor": 1
}
